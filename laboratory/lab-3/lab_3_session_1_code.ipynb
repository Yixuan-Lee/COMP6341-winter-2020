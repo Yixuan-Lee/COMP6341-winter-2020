{
 "cells": [
  {
   "cell_type": "markdown",
   "metadata": {},
   "source": [
    "# Importing Libraries"
   ]
  },
  {
   "cell_type": "code",
   "execution_count": 1,
   "metadata": {},
   "outputs": [],
   "source": [
    "import cv2\n",
    "import numpy as np"
   ]
  },
  {
   "cell_type": "markdown",
   "metadata": {},
   "source": [
    "#### File paths"
   ]
  },
  {
   "cell_type": "code",
   "execution_count": 2,
   "metadata": {},
   "outputs": [],
   "source": [
    "path = '../'\n",
    "file = 'image.jpeg'"
   ]
  },
  {
   "cell_type": "markdown",
   "metadata": {},
   "source": [
    "# Loading images"
   ]
  },
  {
   "cell_type": "code",
   "execution_count": 8,
   "metadata": {},
   "outputs": [
    {
     "data": {
      "text/plain": [
       "(315, 420, 3)"
      ]
     },
     "execution_count": 8,
     "metadata": {},
     "output_type": "execute_result"
    }
   ],
   "source": [
    "img = cv2.imread(path + file)\n",
    "rows,cols, channels = img.shape\n",
    "rows, cols, channels"
   ]
  },
  {
   "cell_type": "markdown",
   "metadata": {},
   "source": [
    "# Translation"
   ]
  },
  {
   "cell_type": "markdown",
   "metadata": {},
   "source": [
    "M is basically the transformation matrix. In this case the one I am using is a 2 by 3 transformation matrix. Almost like this,\n",
    "\n",
    "1 0 tx\n",
    "\n",
    "0 1 ty"
   ]
  },
  {
   "cell_type": "code",
   "execution_count": null,
   "metadata": {},
   "outputs": [],
   "source": [
    "M = np.float32([[1,0,100],\n",
    "                [0,1,100]])\n",
    "dst = cv2.warpAffine(img,M,(cols,rows))\n",
    "\n",
    "cv2.imshow('img',img)\n",
    "cv2.imshow('Translated',dst)\n",
    "cv2.waitKey(0)\n",
    "cv2.destroyAllWindows()"
   ]
  },
  {
   "cell_type": "markdown",
   "metadata": {},
   "source": [
    "# Rotation"
   ]
  },
  {
   "cell_type": "code",
   "execution_count": 3,
   "metadata": {},
   "outputs": [
    {
     "name": "stdout",
     "output_type": "stream",
     "text": [
      "[[ 6.123234e-17  1.000000e+00  5.250000e+01]\n",
      " [-1.000000e+00  6.123234e-17  3.675000e+02]]\n"
     ]
    }
   ],
   "source": [
    "img = cv2.imread(path + file)\n",
    "rows,cols,channels = img.shape\n",
    "\n",
    "M = cv2.getRotationMatrix2D((cols/2,rows/2),90,1)\n",
    "print(M)"
   ]
  },
  {
   "cell_type": "code",
   "execution_count": 4,
   "metadata": {},
   "outputs": [
    {
     "name": "stdout",
     "output_type": "stream",
     "text": [
      "[[ 6.123234e-17  1.000000e+00  5.250000e+01]\n",
      " [-1.000000e+00  6.123234e-17  3.675000e+02]]\n"
     ]
    }
   ],
   "source": [
    "dst = cv2.warpAffine(img,M,(cols,rows))\n",
    "\n",
    "print(M)\n",
    "\n",
    "cv2.imshow('img',img)\n",
    "cv2.imshow('Rotated',dst)\n",
    "cv2.waitKey(0)\n",
    "cv2.destroyAllWindows()"
   ]
  },
  {
   "cell_type": "markdown",
   "metadata": {},
   "source": [
    "# Scaling"
   ]
  },
  {
   "cell_type": "markdown",
   "metadata": {},
   "source": [
    "Scaling changes the dimension of your image. You take an image in, you define the scale factor along each axis and out comes a new image with new dimensions. These new dimensions are calculated using the scale factors and the original image resolution."
   ]
  },
  {
   "cell_type": "code",
   "execution_count": 5,
   "metadata": {},
   "outputs": [],
   "source": [
    "img = cv2.imread(path + file)\n",
    "res = cv2.resize(img,None,fx=2, fy=2, interpolation = cv2.INTER_CUBIC)\n",
    "\n",
    "cv2.imshow('img',img)\n",
    "cv2.imshow('Scaled Image',res)\n",
    "cv2.waitKey(0)\n",
    "cv2.destroyAllWindows()"
   ]
  },
  {
   "cell_type": "markdown",
   "metadata": {},
   "source": [
    "# Translation using a set of points"
   ]
  },
  {
   "cell_type": "markdown",
   "metadata": {},
   "source": [
    "Translation moves your image to a particular direction based on whichever direction you want it to move."
   ]
  },
  {
   "cell_type": "code",
   "execution_count": 3,
   "metadata": {},
   "outputs": [
    {
     "name": "stdout",
     "output_type": "stream",
     "text": [
      "[[ 0.39999998 -0.50000002  0.60000002]\n",
      " [ 0.10000001  0.10000001  0.2       ]]\n"
     ]
    }
   ],
   "source": [
    "import numpy as np\n",
    "import cv2\n",
    "\n",
    "img = cv2.imread('2.jpg')\n",
    "rows,cols,ch = img.shape\n",
    "\n",
    "pts1 = np.float32([[0,0],[0, 1],[1, 0]])\n",
    "pts2 = np.float32([[0.6,0.2],[0.1,0.3],[1,0.3]])\n",
    "\n",
    "M = cv2.getAffineTransform(pts1,pts2)\n",
    "print(M)\n",
    "\n",
    "dst = cv2.warpAffine(img,M,(cols,rows))\n",
    "cv2.imshow('Translated',dst)\n",
    "cv2.waitKey(0)\n",
    "cv2.destroyAllWindows()"
   ]
  },
  {
   "cell_type": "markdown",
   "metadata": {},
   "source": [
    "# Looping"
   ]
  },
  {
   "cell_type": "markdown",
   "metadata": {},
   "source": [
    "### Scaling"
   ]
  },
  {
   "cell_type": "code",
   "execution_count": 4,
   "metadata": {},
   "outputs": [],
   "source": [
    "img = cv2.imread(path + file)\n",
    "cv2.imshow('Scaled image', img)\n",
    "resize_value = 1\n",
    "\n",
    "while(True):\n",
    "    key = cv2.waitKey(0)\n",
    "    if (key == 27):\n",
    "        cv2.destroyAllWindows()\n",
    "        break\n",
    "    elif (key == 97):\n",
    "        resize_value += .5\n",
    "        res = cv2.resize(img,None,fx=resize_value, fy=resize_value, interpolation = cv2.INTER_CUBIC)\n",
    "\n",
    "        cv2.imshow('Scaled Image',res) "
   ]
  },
  {
   "cell_type": "markdown",
   "metadata": {},
   "source": [
    "### Rotating"
   ]
  },
  {
   "cell_type": "code",
   "execution_count": null,
   "metadata": {},
   "outputs": [],
   "source": [
    "img = cv2.imread(path + file)\n",
    "cv2.imshow('Scaled image', img)\n",
    "rows,cols,channels = img.shape\n",
    "rotation_value = 0\n",
    "\n",
    "while(True):\n",
    "    key = cv2.waitKey(0)\n",
    "    if (key == 27):\n",
    "        cv2.destroyAllWindows()\n",
    "        break\n",
    "    elif (key == 97):\n",
    "        rotation_value += 15\n",
    "        M = cv2.getRotationMatrix2D((cols/2,rows/2),rotation_value,1)\n",
    "        res = cv2.warpAffine(img,M,(cols,rows))\n",
    "        cv2.imshow('Scaled Image',res) \n",
    "    elif (key == 115):\n",
    "        rotation_value -= 15\n",
    "        M = cv2.getRotationMatrix2D((cols/2,rows/2),rotation_value,1)\n",
    "        res = cv2.warpAffine(img,M,(cols,rows))\n",
    "        cv2.imshow('Scaled Image',res) \n"
   ]
  },
  {
   "cell_type": "markdown",
   "metadata": {},
   "source": [
    "# Extras (Not to be covered, probably)"
   ]
  },
  {
   "cell_type": "code",
   "execution_count": 3,
   "metadata": {},
   "outputs": [],
   "source": [
    "import cv2\n",
    "import numpy as np\n",
    "\n",
    "source_window = 'Source image'\n",
    "corners_window = 'Corners detected'\n",
    "max_thresh = 255\n",
    "\n",
    "def cornerHarris_demo(val):\n",
    "    thresh = val\n",
    "    # Detector parameters\n",
    "    blockSize = 2\n",
    "    apertureSize = 3\n",
    "    k = 0.04\n",
    "    # Detecting corners\n",
    "    dst = cv2.cornerHarris(src_gray, blockSize, apertureSize, k)\n",
    "    # Normalizing\n",
    "    dst_norm = np.empty(dst.shape, dtype=np.float32)\n",
    "    cv2.normalize(dst, dst_norm, alpha=0, beta=255, norm_type=cv2.NORM_MINMAX)\n",
    "    dst_norm_scaled = cv2.convertScaleAbs(dst_norm)\n",
    "    # Drawing a circle around corners\n",
    "    for i in range(dst_norm.shape[0]):\n",
    "        for j in range(dst_norm.shape[1]):\n",
    "            if int(dst_norm[i,j]) > thresh:\n",
    "                cv2.circle(dst_norm_scaled, (j,i), 5, (0), 2)\n",
    "    # Showing the result\n",
    "    cv2.namedWindow(corners_window)\n",
    "    cv2.imshow(corners_window, dst_norm_scaled)\n",
    "\n",
    "src = cv2.imread('./boxes.jpg')\n",
    "src_gray = cv2.cvtColor(src, cv2.COLOR_BGR2GRAY)\n",
    "\n",
    "# Create a window and a trackbar\n",
    "cv2.namedWindow(source_window)\n",
    "thresh = 200 # initial threshold\n",
    "\n",
    "cv2.createTrackbar('Threshold: ', source_window, thresh, max_thresh, cornerHarris_demo)\n",
    "cv2.imshow(source_window, src)\n",
    "cornerHarris_demo(thresh)\n",
    "cv2.waitKey(0)\n",
    "cv2.destroyAllWindows()"
   ]
  },
  {
   "cell_type": "markdown",
   "metadata": {},
   "source": [
    "# More blending"
   ]
  },
  {
   "cell_type": "code",
   "execution_count": 4,
   "metadata": {},
   "outputs": [
    {
     "name": "stdout",
     "output_type": "stream",
     "text": [
      "(650, 1024, 3)\n",
      "(650, 1024, 3)\n"
     ]
    }
   ],
   "source": [
    "import cv2\n",
    "import numpy as np\n",
    "\n",
    "tower = cv2.imread('1.jpg')\n",
    "sea = cv2.imread('2.jpg')\n",
    "print(tower.shape)\n",
    "print(sea.shape)\n",
    "tower_sea = np.vstack((tower[:500, :], sea[500:, :]))\n",
    "cv2.imshow(\"Tower Sea\", tower_sea)\n",
    "cv2.waitKey(0)\n",
    "cv2.destroyAllWindows()"
   ]
  },
  {
   "cell_type": "code",
   "execution_count": 5,
   "metadata": {},
   "outputs": [],
   "source": [
    "# generate Gaussian pyramid for apple\n",
    "tower_copy = tower.copy()\n",
    "gp_tower = [tower_copy]\n",
    "for i in range(6):\n",
    "    tower_copy = cv2.pyrDown(tower_copy)\n",
    "    gp_tower.append(tower_copy)\n",
    "\n",
    "\n",
    "# generate Gaussian pyramid for orange\n",
    "sea_copy = sea.copy()\n",
    "gp_sea = [sea_copy]\n",
    "for i in range(6):\n",
    "    sea_copy = cv2.pyrDown(sea_copy)\n",
    "    gp_sea.append(sea_copy)"
   ]
  },
  {
   "cell_type": "code",
   "execution_count": 6,
   "metadata": {},
   "outputs": [],
   "source": [
    "# generate Laplacian Pyramid for apple\n",
    "tower_copy = gp_tower[5]\n",
    "lp_tower = [tower_copy]\n",
    "for i in range(5, 0, -1):\n",
    "    gaussian_expanded = cv2.pyrUp(gp_tower[i], dstsize = (gp_tower[i-1].shape[1], gp_tower[i-1].shape[0]))\n",
    "    laplacian = cv2.subtract(gp_tower[i-1], gaussian_expanded)\n",
    "    lp_tower.append(laplacian)\n",
    "\n",
    "# generate Laplacian Pyramid for orange\n",
    "sea_copy = gp_sea[5]\n",
    "lp_sea = [sea_copy]\n",
    "for i in range(5, 0, -1):\n",
    "    gaussian_expanded = cv2.pyrUp(gp_sea[i],  dstsize = (gp_sea[i-1].shape[1], gp_sea[i-1].shape[0]))\n",
    "    laplacian = cv2.subtract(gp_sea[i-1], gaussian_expanded)\n",
    "    lp_sea.append(laplacian)"
   ]
  },
  {
   "cell_type": "code",
   "execution_count": 7,
   "metadata": {},
   "outputs": [],
   "source": [
    "# Now add left and right halves of images in each level\n",
    "tower_sea_pyramid = []\n",
    "n = 0\n",
    "for tower_lap, sea_lap in zip(lp_tower, lp_sea):\n",
    "    n += 1\n",
    "    cols, rows, ch = tower_lap.shape\n",
    "    laplacian = np.vstack((tower_lap[0:int((rows/2)), :], sea_lap[int(rows/2):, :]))\n",
    "    tower_sea_pyramid.append(laplacian)\n",
    "# now reconstruct\n",
    "tower_sea_reconstruct = tower_sea_pyramid[0]\n",
    "for i in range(1, 6):\n",
    "    tower_sea_reconstruct = cv2.pyrUp(tower_sea_reconstruct, dstsize = (tower_sea_pyramid[i].shape[1], \n",
    "                                                                             tower_sea_pyramid[i].shape[0]))\n",
    "    tower_sea_reconstruct = cv2.add(tower_sea_pyramid[i], tower_sea_reconstruct)"
   ]
  },
  {
   "cell_type": "code",
   "execution_count": 8,
   "metadata": {},
   "outputs": [],
   "source": [
    "cv2.imshow(\"Eiffel Tower\", tower)\n",
    "cv2.imshow(\"Sea\", sea)\n",
    "cv2.imshow(\"Tower_Sea\", tower_sea)\n",
    "cv2.imshow(\"Tower_Sea Reconstructed\", tower_sea_reconstruct)\n",
    "cv2.waitKey(0)\n",
    "cv2.destroyAllWindows()"
   ]
  },
  {
   "cell_type": "code",
   "execution_count": null,
   "metadata": {},
   "outputs": [],
   "source": []
  }
 ],
 "metadata": {
  "kernelspec": {
   "display_name": "Python 3",
   "language": "python",
   "name": "python3"
  },
  "language_info": {
   "codemirror_mode": {
    "name": "ipython",
    "version": 3
   },
   "file_extension": ".py",
   "mimetype": "text/x-python",
   "name": "python",
   "nbconvert_exporter": "python",
   "pygments_lexer": "ipython3",
   "version": "3.7.6"
  }
 },
 "nbformat": 4,
 "nbformat_minor": 4
}

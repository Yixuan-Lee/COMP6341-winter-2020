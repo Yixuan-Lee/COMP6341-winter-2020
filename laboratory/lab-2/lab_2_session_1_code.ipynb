{
 "cells": [
  {
   "cell_type": "markdown",
   "metadata": {},
   "source": [
    "# Import libraries"
   ]
  },
  {
   "cell_type": "code",
   "execution_count": 3,
   "metadata": {},
   "outputs": [],
   "source": [
    "import cv2\n",
    "import numpy as np"
   ]
  },
  {
   "cell_type": "markdown",
   "metadata": {},
   "source": [
    "The Sobel Operator is a discrete differentiation operator. It computes an approximation of the gradient of an image intensity function. \n",
    "\n",
    "Horizontal changes/Vertical Changes: The horizontal change (gx) is computed by convolving an image (I) with a kernel with odd size. For example for a kernel size of 3, Gx would be computed as:\n",
    "\n",
    "<img src = 'imgs/gx.png'>\n",
    "\n",
    "Similarly for Gy :\n",
    "\n",
    "<img src = 'imgs/gy.png'>\n",
    "\n",
    "Then we combine both x and y component to find the result by doing I = gx + gy. Or in other notation I = dx+dy as sobel operator gives us the first derivative."
   ]
  },
  {
   "cell_type": "markdown",
   "metadata": {},
   "source": [
    "## Load an image and creating the kernels"
   ]
  },
  {
   "cell_type": "code",
   "execution_count": 4,
   "metadata": {},
   "outputs": [],
   "source": [
    "img = cv2.imread('imgs/oldwell.jpg',cv2.IMREAD_GRAYSCALE)\n",
    "\n",
    "sobel_X = np.array([[1, 0, -1], [2, 0, -2], [1, 0, -1]])\n",
    "sobel_Y = np.array([[1, 2, 1], [0, 0, 0], [-1, -2, -1]])"
   ]
  },
  {
   "cell_type": "markdown",
   "metadata": {},
   "source": [
    "## Applying the filters to get the derivatives"
   ]
  },
  {
   "cell_type": "code",
   "execution_count": 5,
   "metadata": {},
   "outputs": [],
   "source": [
    "dx = cv2.filter2D(img,-1,sobel_X)\n",
    "dy = cv2.filter2D(img,-1,sobel_Y)\n",
    "\n",
    "## Add the two components to get the final result\n",
    "sobel_img = dx + dy "
   ]
  },
  {
   "cell_type": "markdown",
   "metadata": {},
   "source": [
    "## Displaying results"
   ]
  },
  {
   "cell_type": "code",
   "execution_count": 6,
   "metadata": {},
   "outputs": [],
   "source": [
    "cv2.imshow('image',img)\n",
    "cv2.imshow('DX',dx)\n",
    "cv2.imshow('DY',dy)\n",
    "cv2.imshow('Sobel',sobel_img.astype(np.uint8))\n",
    "cv2.waitKey(0)\n",
    "cv2.destroyAllWindows()"
   ]
  },
  {
   "cell_type": "markdown",
   "metadata": {},
   "source": [
    "## Repeat the same with the built-in sobel operator"
   ]
  },
  {
   "cell_type": "code",
   "execution_count": 7,
   "metadata": {},
   "outputs": [],
   "source": [
    "sobelx = cv2.Sobel(img, -1, 1, 0, ksize=3)\n",
    "sobely = cv2.Sobel(img, -1, 0, 1, ksize=3)\n",
    "\n",
    "sobel_final = cv2.add(sobelx,sobely)"
   ]
  },
  {
   "cell_type": "markdown",
   "metadata": {},
   "source": [
    "## Results"
   ]
  },
  {
   "cell_type": "code",
   "execution_count": 8,
   "metadata": {},
   "outputs": [],
   "source": [
    "cv2.imshow('Sobel X', sobelx)\n",
    "cv2.imshow('Sobel Y', sobely)\n",
    "cv2.imshow('Sobel Result', sobel_final)\n",
    "cv2.waitKey(0)\n",
    "cv2.destroyAllWindows()"
   ]
  },
  {
   "cell_type": "markdown",
   "metadata": {},
   "source": [
    "# Canny Edge Detector"
   ]
  },
  {
   "cell_type": "markdown",
   "metadata": {},
   "source": [
    "Already shown in lecture. It consists of a few steps. You can think of it this way, whatever the Sobel Operator gives out, it will take that and do a few extra steps. These extra steps are <b>non maximum suppression</b> (i.e. in the direction of the edge orientation) and <b>thresholding</b>. However, opencv is going to do all of these for you."
   ]
  },
  {
   "cell_type": "code",
   "execution_count": 11,
   "metadata": {},
   "outputs": [],
   "source": [
    "canny_edges = cv2.Canny(img, 30, 230) # Play around with the values\n",
    "\n",
    "cv2.imshow('Canny Edges', canny_edges)\n",
    "cv2.waitKey(0)\n",
    "cv2.destroyAllWindows()"
   ]
  },
  {
   "cell_type": "markdown",
   "metadata": {},
   "source": [
    "# Gaussian Pyramid"
   ]
  },
  {
   "cell_type": "markdown",
   "metadata": {},
   "source": [
    "The gaussian pyramid of various resolution can be generated in Opencv using pyrdown. Pyrdown stands for pyramid down. It gives you a smaller sized image then the original one."
   ]
  },
  {
   "cell_type": "code",
   "execution_count": 12,
   "metadata": {},
   "outputs": [],
   "source": [
    "# generate Gaussian pyramid\n",
    "image_clone = img.copy() \n",
    "g_pyramid = [image_clone] \n",
    "\n",
    "for i in range(3):\n",
    "    G = cv2.pyrDown(g_pyramid[i]) # notice indexing\n",
    "    cv2.imshow(\"Down Image \" + str(i+1), G)\n",
    "    g_pyramid.append(G)\n",
    "    cv2.waitKey(0)\n",
    "cv2.destroyAllWindows()\n",
    "\n",
    "#len(g_pyramid)"
   ]
  },
  {
   "cell_type": "markdown",
   "metadata": {},
   "source": [
    "Upsampling the downsampled images"
   ]
  },
  {
   "cell_type": "code",
   "execution_count": 13,
   "metadata": {},
   "outputs": [],
   "source": [
    "upsampled = g_pyramid[-1]\n",
    "for i in range(3):\n",
    "    upsampled = cv2.pyrUp(upsampled)\n",
    "    cv2.imshow(\"Up Image \" + str(i), upsampled)\n",
    "    cv2.waitKey(0)\n",
    "cv2.destroyAllWindows()"
   ]
  },
  {
   "cell_type": "markdown",
   "metadata": {},
   "source": [
    "We can generate a laplacian pyramid from the upsampled and downsampled images"
   ]
  },
  {
   "cell_type": "code",
   "execution_count": 14,
   "metadata": {},
   "outputs": [],
   "source": [
    "# generate Laplacian Pyramid for A\n",
    "l_pyramid = [g_pyramid[3]]\n",
    "for i in range(3,0,-1):\n",
    "    GE = cv2.pyrUp(g_pyramid[i], dstsize = (g_pyramid[i-1].shape[1], g_pyramid[i-1].shape[0]))\n",
    "    L = cv2.subtract(g_pyramid[i-1], GE)\n",
    "    cv2.imshow(\"L Image \" + str(i), L)\n",
    "    cv2.waitKey(0)\n",
    "    l_pyramid.append(L)\n",
    "cv2.destroyAllWindows()"
   ]
  },
  {
   "cell_type": "markdown",
   "metadata": {},
   "source": [
    "Now using the details from the laplacian pyramid we try to reconstruct the original images from the downsampled images. A lot of details will come back in this way."
   ]
  },
  {
   "cell_type": "code",
   "execution_count": 15,
   "metadata": {},
   "outputs": [],
   "source": [
    "# now reconstruct\n",
    "ls = l_pyramid[0]\n",
    "for i in range(1,4):\n",
    "    ls = cv2.pyrUp(ls, dstsize = (l_pyramid[i].shape[1], l_pyramid[i].shape[0]))\n",
    "    ls = cv2.add(ls, l_pyramid[i])\n",
    "    cv2.imshow(\"Up Laplacian Image \" + str(i), ls)\n",
    "    cv2.waitKey(0)\n",
    "cv2.destroyAllWindows()"
   ]
  },
  {
   "cell_type": "markdown",
   "metadata": {},
   "source": [
    "# Resources to check out"
   ]
  },
  {
   "cell_type": "markdown",
   "metadata": {},
   "source": [
    "References\n",
    "\n",
    "<i>https://stackoverflow.com/questions/45817037/opencv-image-subtraction-vs-numpy-subtraction</i>"
   ]
  },
  {
   "cell_type": "markdown",
   "metadata": {},
   "source": [
    "# Blending -- Optional for now"
   ]
  },
  {
   "cell_type": "markdown",
   "metadata": {},
   "source": [
    "\n",
    "-- Load two images\n",
    "\n",
    "-- Create separate gaussian pyramids for both of the images\n",
    "\n",
    "-- Create laplacian pyramids for the images as well\n",
    "\n",
    "-- Join both of the images on each level of the laplacian pyramids (one half should come from one image, and the other half from the other)\n",
    "\n",
    "-- Finally using this newly created laplacian pyramid create the reconstructed blended image\n",
    "\n"
   ]
  },
  {
   "cell_type": "code",
   "execution_count": 16,
   "metadata": {},
   "outputs": [
    {
     "name": "stdout",
     "output_type": "stream",
     "text": [
      "(307, 307, 3)\n",
      "(307, 307, 3)\n"
     ]
    }
   ],
   "source": [
    "apple = cv2.imread('imgs/apple.jpg')\n",
    "orange = cv2.imread('imgs/orange.jpg')\n",
    "print(apple.shape)\n",
    "print(orange.shape)\n",
    "apple_orange = np.hstack((apple[:, :154], orange[:, 154:]))\n",
    "cv2.imshow(\"Apple orange\", apple_orange)\n",
    "cv2.waitKey(0)\n",
    "cv2.destroyAllWindows()"
   ]
  },
  {
   "cell_type": "code",
   "execution_count": 17,
   "metadata": {},
   "outputs": [],
   "source": [
    "# generate Gaussian pyramid for apple\n",
    "apple_copy = apple.copy()\n",
    "gp_apple = [apple_copy]\n",
    "for i in range(6):\n",
    "    apple_copy = cv2.pyrDown(apple_copy)\n",
    "    gp_apple.append(apple_copy)\n",
    "\n",
    "\n",
    "# generate Gaussian pyramid for orange\n",
    "orange_copy = orange.copy()\n",
    "gp_orange = [orange_copy]\n",
    "for i in range(6):\n",
    "    orange_copy = cv2.pyrDown(orange_copy)\n",
    "    gp_orange.append(orange_copy)"
   ]
  },
  {
   "cell_type": "code",
   "execution_count": 18,
   "metadata": {},
   "outputs": [],
   "source": [
    "# generate Laplacian Pyramid for apple\n",
    "apple_copy = gp_apple[5]\n",
    "lp_apple = [apple_copy]\n",
    "for i in range(5, 0, -1):\n",
    "    gaussian_expanded = cv2.pyrUp(gp_apple[i], dstsize = (gp_apple[i-1].shape[1], gp_apple[i-1].shape[0]))\n",
    "    laplacian = cv2.subtract(gp_apple[i-1], gaussian_expanded)\n",
    "    lp_apple.append(laplacian)\n",
    "\n",
    "# generate Laplacian Pyramid for orange\n",
    "orange_copy = gp_orange[5]\n",
    "lp_orange = [orange_copy]\n",
    "for i in range(5, 0, -1):\n",
    "    gaussian_expanded = cv2.pyrUp(gp_orange[i],  dstsize = (gp_orange[i-1].shape[1], gp_orange[i-1].shape[0]))\n",
    "    laplacian = cv2.subtract(gp_orange[i-1], gaussian_expanded)\n",
    "    lp_orange.append(laplacian)"
   ]
  },
  {
   "cell_type": "code",
   "execution_count": 19,
   "metadata": {},
   "outputs": [],
   "source": [
    "# Now add left and right halves of images in each level\n",
    "apple_orange_pyramid = []\n",
    "n = 0\n",
    "for apple_lap, orange_lap in zip(lp_apple, lp_orange):\n",
    "    n += 1\n",
    "    cols, rows, ch = apple_lap.shape\n",
    "    laplacian = np.hstack((apple_lap[:, 0:int(cols/2)], orange_lap[:, int(cols/2):]))\n",
    "    apple_orange_pyramid.append(laplacian)\n",
    "# now reconstruct\n",
    "apple_orange_reconstruct = apple_orange_pyramid[0]\n",
    "for i in range(1, 6):\n",
    "    apple_orange_reconstruct = cv2.pyrUp(apple_orange_reconstruct, dstsize = (apple_orange_pyramid[i].shape[1], \n",
    "                                                                             apple_orange_pyramid[i].shape[0]))\n",
    "    apple_orange_reconstruct = cv2.add(apple_orange_pyramid[i], apple_orange_reconstruct)"
   ]
  },
  {
   "cell_type": "code",
   "execution_count": 20,
   "metadata": {},
   "outputs": [],
   "source": [
    "cv2.imshow(\"apple\", apple)\n",
    "cv2.imshow(\"orange\", orange)\n",
    "cv2.imshow(\"apple_orange\", apple_orange)\n",
    "cv2.imshow(\"apple_orange_reconstruct\", apple_orange_reconstruct)\n",
    "cv2.waitKey(0)\n",
    "cv2.destroyAllWindows()"
   ]
  },
  {
   "cell_type": "code",
   "execution_count": null,
   "metadata": {},
   "outputs": [],
   "source": []
  }
 ],
 "metadata": {
  "kernelspec": {
   "display_name": "Python 3",
   "language": "python",
   "name": "python3"
  },
  "language_info": {
   "codemirror_mode": {
    "name": "ipython",
    "version": 3
   },
   "file_extension": ".py",
   "mimetype": "text/x-python",
   "name": "python",
   "nbconvert_exporter": "python",
   "pygments_lexer": "ipython3",
   "version": "3.7.6"
  }
 },
 "nbformat": 4,
 "nbformat_minor": 4
}
